{
 "cells": [
  {
   "cell_type": "code",
   "execution_count": 1,
   "id": "40cf3664",
   "metadata": {},
   "outputs": [],
   "source": [
    "import os\n",
    "import pandas as pd\n",
    "import shutil, os\n",
    "import numpy as np\n",
    "import pandas as pd\n",
    "# import cv2\n",
    "import matplotlib.pyplot as plt\n",
    "%matplotlib inline\n",
    "from sklearn.model_selection import train_test_split\n",
    "from sklearn.preprocessing import Binarizer, MultiLabelBinarizer\n",
    "from sklearn.metrics import fbeta_score, classification_report\n",
    "\n",
    "import tensorflow as tf\n",
    "from tensorflow.keras.callbacks import EarlyStopping, ModelCheckpoint, Callback, ReduceLROnPlateau\n",
    "from tensorflow.keras.preprocessing.image import ImageDataGenerator\n",
    "from tensorflow.keras.backend import clear_session\n",
    "from tensorflow.keras.models import load_model\n",
    "\n",
    "import keras\n",
    "from keras import backend as K\n",
    "from keras.regularizers import l2\n",
    "from keras.callbacks import ModelCheckpoint\n",
    "from keras.layers import Dense, Dropout, Flatten, Conv2D, MaxPool2D, AveragePooling2D\n",
    "from keras.layers.normalization import BatchNormalization\n",
    "from keras.models import Sequential\n",
    "from keras.optimizers import Adam\n",
    "\n",
    "# ### model py files\n",
    "# import CNN_Baseline as baseline\n",
    "# import CNN_Dropout as dropout\n",
    "# import CNN_BatchN as batchN\n",
    "# import Mobilenet as mobnet\n",
    "# import VGG16 as vgg16"
   ]
  },
  {
   "cell_type": "code",
   "execution_count": 2,
   "id": "a9450ea9",
   "metadata": {
    "scrolled": true
   },
   "outputs": [],
   "source": [
    "### Choose which GPU to use - HEX SERVER ONLY. Go to https://hex.cs.bath.ac.uk/usage for current usage\n",
    "# import os \n",
    "# os.environ['CUDA_VISIBLE_DEVICES'] = '1'\n",
    "\n",
    "### Prevent GPU memory overflow\n",
    "from tensorflow.compat.v1 import ConfigProto\n",
    "from tensorflow.compat.v1 import InteractiveSession\n",
    "\n",
    "config = ConfigProto()\n",
    "config.gpu_options.allow_growth = True\n",
    "session = InteractiveSession(config=config)\n",
    "\n",
    "\n",
    "# ### For M1 Mac only\n",
    "# # Import mlcompute module to use the optional set_mlc_device API for device selection with ML Compute.\n",
    "# from tensorflow.python.compiler.mlcompute import mlcompute\n",
    "\n",
    "# # Select CPU device.\n",
    "# mlcompute.set_mlc_device(device_name='gpu') # Available options are 'cpu', 'gpu', and 'any'."
   ]
  },
  {
   "cell_type": "markdown",
   "id": "0d5195f2",
   "metadata": {},
   "source": [
    "### Parameter / hyperparameter Setup "
   ]
  },
  {
   "cell_type": "code",
   "execution_count": 3,
   "id": "c7f1a011",
   "metadata": {},
   "outputs": [],
   "source": [
    "### Parameters\n",
    "INPUT_SHAPE = (128, 128, 3) # Image Dimensions\n",
    "BATCH_SIZE = 128\n",
    "LR = 0.0001 # Learning Rate\n",
    "REG_STRENGTH = 0.01 # Regularization Strength\n",
    "WORKERS = 6 # Multithreading no of threads\n",
    "MAXQ = 10 # Max Queue size for multithreading\n",
    "THRES = [0.2] * 17 # Threshold for truth value of label, applied on sigmoid output.\n",
    "\n",
    "### Hyperparameters\n",
    "DROPOUT_RATE = 0.5\n",
    "PATIENCE = 10\n",
    "EPOCHS = 100"
   ]
  },
  {
   "cell_type": "markdown",
   "id": "41368412",
   "metadata": {},
   "source": [
    "### Specify where the model h5 files are saved here..."
   ]
  },
  {
   "cell_type": "code",
   "execution_count": 4,
   "id": "d6e14a0c",
   "metadata": {},
   "outputs": [],
   "source": [
    "model_directory = 'hyper_model_set/'"
   ]
  },
  {
   "cell_type": "markdown",
   "id": "85523f22",
   "metadata": {},
   "source": [
    "### Dataset Import"
   ]
  },
  {
   "cell_type": "code",
   "execution_count": 5,
   "id": "622dbef8",
   "metadata": {},
   "outputs": [],
   "source": [
    "DATASET_PATH = 'dataset/'\n",
    "TRAIN_PATH = DATASET_PATH + 'train_file'\n",
    "TEST_PATH = DATASET_PATH + 'test_file'\n",
    "\n",
    "TRAIN_CSV_PATH = DATASET_PATH + 'train_label.csv'\n",
    "TEST_CSV_PATH = DATASET_PATH + 'test_label.csv'"
   ]
  },
  {
   "cell_type": "code",
   "execution_count": 6,
   "id": "d6f6bd97",
   "metadata": {},
   "outputs": [],
   "source": [
    "df_train = pd.read_csv(TRAIN_CSV_PATH)\n",
    "df_test = pd.read_csv(TEST_CSV_PATH)\n",
    "\n",
    "df_train['image_name'] = df_train['image_name'].astype(str)\n",
    "df_test['image_name'] = df_test['image_name'].astype(str)\n",
    "\n",
    "# split multi-label tags in str to a list\n",
    "df_train['tags'] = df_train['tags'].apply(lambda x: x.split(' '))\n",
    "df_test['tags'] = df_test['tags'].apply(lambda x: x.split(' '))\n",
    "\n",
    "X_train_files_o = np.array(df_train['image_name'].tolist()) # filenames\n",
    "X_train_files_o.reshape((X_train_files_o.shape[0], 1))\n",
    "y_train_o = np.array(df_train['tags'].tolist(), dtype=object) # train image tags (ground truth)\n",
    "y_test_o = np.array(df_test['tags'].tolist(), dtype=object) # test image tags (ground truth)"
   ]
  },
  {
   "cell_type": "code",
   "execution_count": 7,
   "id": "513033f8",
   "metadata": {},
   "outputs": [
    {
     "data": {
      "text/html": [
       "<div>\n",
       "<style scoped>\n",
       "    .dataframe tbody tr th:only-of-type {\n",
       "        vertical-align: middle;\n",
       "    }\n",
       "\n",
       "    .dataframe tbody tr th {\n",
       "        vertical-align: top;\n",
       "    }\n",
       "\n",
       "    .dataframe thead th {\n",
       "        text-align: right;\n",
       "    }\n",
       "</style>\n",
       "<table border=\"1\" class=\"dataframe\">\n",
       "  <thead>\n",
       "    <tr style=\"text-align: right;\">\n",
       "      <th></th>\n",
       "      <th>image_name</th>\n",
       "      <th>tags</th>\n",
       "    </tr>\n",
       "  </thead>\n",
       "  <tbody>\n",
       "    <tr>\n",
       "      <th>0</th>\n",
       "      <td>train_3577.jpg</td>\n",
       "      <td>[haze, primary]</td>\n",
       "    </tr>\n",
       "    <tr>\n",
       "      <th>1</th>\n",
       "      <td>train_10327.jpg</td>\n",
       "      <td>[clear, primary]</td>\n",
       "    </tr>\n",
       "    <tr>\n",
       "      <th>2</th>\n",
       "      <td>train_1243.jpg</td>\n",
       "      <td>[clear, primary, water]</td>\n",
       "    </tr>\n",
       "    <tr>\n",
       "      <th>3</th>\n",
       "      <td>train_17066.jpg</td>\n",
       "      <td>[clear, primary]</td>\n",
       "    </tr>\n",
       "    <tr>\n",
       "      <th>4</th>\n",
       "      <td>train_15959.jpg</td>\n",
       "      <td>[clear, primary]</td>\n",
       "    </tr>\n",
       "    <tr>\n",
       "      <th>...</th>\n",
       "      <td>...</td>\n",
       "      <td>...</td>\n",
       "    </tr>\n",
       "    <tr>\n",
       "      <th>32378</th>\n",
       "      <td>train_7813.jpg</td>\n",
       "      <td>[agriculture, clear, primary]</td>\n",
       "    </tr>\n",
       "    <tr>\n",
       "      <th>32379</th>\n",
       "      <td>train_32511.jpg</td>\n",
       "      <td>[clear, primary]</td>\n",
       "    </tr>\n",
       "    <tr>\n",
       "      <th>32380</th>\n",
       "      <td>train_5192.jpg</td>\n",
       "      <td>[partly_cloudy, primary]</td>\n",
       "    </tr>\n",
       "    <tr>\n",
       "      <th>32381</th>\n",
       "      <td>train_12172.jpg</td>\n",
       "      <td>[agriculture, clear, cultivation, habitation, ...</td>\n",
       "    </tr>\n",
       "    <tr>\n",
       "      <th>32382</th>\n",
       "      <td>train_33003.jpg</td>\n",
       "      <td>[clear, primary]</td>\n",
       "    </tr>\n",
       "  </tbody>\n",
       "</table>\n",
       "<p>32383 rows × 2 columns</p>\n",
       "</div>"
      ],
      "text/plain": [
       "            image_name                                               tags\n",
       "0       train_3577.jpg                                    [haze, primary]\n",
       "1      train_10327.jpg                                   [clear, primary]\n",
       "2       train_1243.jpg                            [clear, primary, water]\n",
       "3      train_17066.jpg                                   [clear, primary]\n",
       "4      train_15959.jpg                                   [clear, primary]\n",
       "...                ...                                                ...\n",
       "32378   train_7813.jpg                      [agriculture, clear, primary]\n",
       "32379  train_32511.jpg                                   [clear, primary]\n",
       "32380   train_5192.jpg                           [partly_cloudy, primary]\n",
       "32381  train_12172.jpg  [agriculture, clear, cultivation, habitation, ...\n",
       "32382  train_33003.jpg                                   [clear, primary]\n",
       "\n",
       "[32383 rows x 2 columns]"
      ]
     },
     "execution_count": 7,
     "metadata": {},
     "output_type": "execute_result"
    }
   ],
   "source": [
    "### show train and test set...\n",
    "df_train"
   ]
  },
  {
   "cell_type": "code",
   "execution_count": 8,
   "id": "4f9b5268",
   "metadata": {},
   "outputs": [
    {
     "data": {
      "text/html": [
       "<div>\n",
       "<style scoped>\n",
       "    .dataframe tbody tr th:only-of-type {\n",
       "        vertical-align: middle;\n",
       "    }\n",
       "\n",
       "    .dataframe tbody tr th {\n",
       "        vertical-align: top;\n",
       "    }\n",
       "\n",
       "    .dataframe thead th {\n",
       "        text-align: right;\n",
       "    }\n",
       "</style>\n",
       "<table border=\"1\" class=\"dataframe\">\n",
       "  <thead>\n",
       "    <tr style=\"text-align: right;\">\n",
       "      <th></th>\n",
       "      <th>image_name</th>\n",
       "      <th>tags</th>\n",
       "    </tr>\n",
       "  </thead>\n",
       "  <tbody>\n",
       "    <tr>\n",
       "      <th>0</th>\n",
       "      <td>test_32752.jpg</td>\n",
       "      <td>[clear, primary]</td>\n",
       "    </tr>\n",
       "    <tr>\n",
       "      <th>1</th>\n",
       "      <td>test_7767.jpg</td>\n",
       "      <td>[clear, primary]</td>\n",
       "    </tr>\n",
       "    <tr>\n",
       "      <th>2</th>\n",
       "      <td>test_4254.jpg</td>\n",
       "      <td>[agriculture, clear, cultivation, primary]</td>\n",
       "    </tr>\n",
       "    <tr>\n",
       "      <th>3</th>\n",
       "      <td>test_23119.jpg</td>\n",
       "      <td>[clear, primary]</td>\n",
       "    </tr>\n",
       "    <tr>\n",
       "      <th>4</th>\n",
       "      <td>test_22101.jpg</td>\n",
       "      <td>[agriculture, clear, primary]</td>\n",
       "    </tr>\n",
       "    <tr>\n",
       "      <th>...</th>\n",
       "      <td>...</td>\n",
       "      <td>...</td>\n",
       "    </tr>\n",
       "    <tr>\n",
       "      <th>8091</th>\n",
       "      <td>test_14994.jpg</td>\n",
       "      <td>[clear, primary]</td>\n",
       "    </tr>\n",
       "    <tr>\n",
       "      <th>8092</th>\n",
       "      <td>test_12945.jpg</td>\n",
       "      <td>[haze, primary]</td>\n",
       "    </tr>\n",
       "    <tr>\n",
       "      <th>8093</th>\n",
       "      <td>test_9238.jpg</td>\n",
       "      <td>[clear, primary]</td>\n",
       "    </tr>\n",
       "    <tr>\n",
       "      <th>8094</th>\n",
       "      <td>test_36600.jpg</td>\n",
       "      <td>[cloudy]</td>\n",
       "    </tr>\n",
       "    <tr>\n",
       "      <th>8095</th>\n",
       "      <td>test_3133.jpg</td>\n",
       "      <td>[clear, primary]</td>\n",
       "    </tr>\n",
       "  </tbody>\n",
       "</table>\n",
       "<p>8096 rows × 2 columns</p>\n",
       "</div>"
      ],
      "text/plain": [
       "          image_name                                        tags\n",
       "0     test_32752.jpg                            [clear, primary]\n",
       "1      test_7767.jpg                            [clear, primary]\n",
       "2      test_4254.jpg  [agriculture, clear, cultivation, primary]\n",
       "3     test_23119.jpg                            [clear, primary]\n",
       "4     test_22101.jpg               [agriculture, clear, primary]\n",
       "...              ...                                         ...\n",
       "8091  test_14994.jpg                            [clear, primary]\n",
       "8092  test_12945.jpg                             [haze, primary]\n",
       "8093   test_9238.jpg                            [clear, primary]\n",
       "8094  test_36600.jpg                                    [cloudy]\n",
       "8095   test_3133.jpg                            [clear, primary]\n",
       "\n",
       "[8096 rows x 2 columns]"
      ]
     },
     "execution_count": 8,
     "metadata": {},
     "output_type": "execute_result"
    }
   ],
   "source": [
    "df_test"
   ]
  },
  {
   "cell_type": "code",
   "execution_count": 9,
   "id": "c6c65cc1",
   "metadata": {},
   "outputs": [
    {
     "name": "stdout",
     "output_type": "stream",
     "text": [
      "['agriculture', 'artisinal_mine', 'bare_ground', 'blooming', 'blow_down', 'clear', 'cloudy', 'conventional_mine', 'cultivation', 'habitation', 'haze', 'partly_cloudy', 'primary', 'road', 'selective_logging', 'slash_burn', 'water']\n",
      "\n",
      "17 unique tags\n"
     ]
    }
   ],
   "source": [
    "# check labels in tags and how many there are\n",
    "tags = df_train['tags'].values\n",
    "\n",
    "flat_list = [item for sublist in tags for item in sublist]\n",
    "tags_unique, tags_count = np.unique(flat_list, return_counts=True)\n",
    "labels = list(tags_unique)\n",
    "\n",
    "print(labels)\n",
    "print()\n",
    "print(len(labels), \"unique tags\")"
   ]
  },
  {
   "cell_type": "code",
   "execution_count": 10,
   "id": "8c970369",
   "metadata": {},
   "outputs": [
    {
     "data": {
      "image/png": "[encoded data removed]",
      "text/plain": [
       "<Figure size 864x576 with 1 Axes>"
      ]
     },
     "metadata": {
      "needs_background": "light"
     },
     "output_type": "display_data"
    }
   ],
   "source": [
    "# Distribution of the labels\n",
    "\n",
    "plt.figure(figsize=(12, 8))\n",
    "            \n",
    "plt.bar(range(len(tags_count)), list(tags_count), align='center')\n",
    "plt.xticks(range(len(tags_count)), list(labels), rotation=90)\n",
    "\n",
    "plt.show()"
   ]
  },
  {
   "cell_type": "markdown",
   "id": "da54171a",
   "metadata": {},
   "source": [
    "### Functions for metrics and plot"
   ]
  },
  {
   "cell_type": "code",
   "execution_count": 11,
   "id": "7ded6fcb",
   "metadata": {},
   "outputs": [],
   "source": [
    "# Reference fbeta score for training\n",
    "def fbeta_score_K(y_true, y_pred):\n",
    "    beta = 2\n",
    "    beta_squared = beta ** 2\n",
    "    tp = K.sum(y_true * y_pred) + K.epsilon()\n",
    "    fp = K.sum(y_pred) - tp\n",
    "    fn = K.sum(y_true) - tp\n",
    "\n",
    "    precision = tp / (tp + fp)\n",
    "    recall = tp / (tp + fn)\n",
    "\n",
    "    result = (beta_squared + 1) * (precision * recall) / (beta_squared * precision + recall + K.epsilon())\n",
    "    return result\n",
    "\n",
    "\n",
    "# calc_acc function for processing multi-label predictions into binarizer and calculate f2 score\n",
    "def calc_acc(y_test, y_pred, labels=labels, threshold=0.2):\n",
    "    \n",
    "    array_labels = np.array(labels)\n",
    "    test = y_test\n",
    "    pred = y_pred\n",
    "    \n",
    "    # Binarize pred to 0 and 1...\n",
    "    binarizer = Binarizer(threshold=threshold)\n",
    "    pred = binarizer.fit_transform(pred)\n",
    "    # 0 and 1 to False and True for boolean indexing...\n",
    "    pred = pred > 0\n",
    "    \n",
    "    preds = []\n",
    "    for row in pred:\n",
    "        preds.append(array_labels[row])\n",
    "    \n",
    "    mlb = MultiLabelBinarizer(classes=array_labels)\n",
    "    \n",
    "    test = mlb.fit_transform(test)\n",
    "    preds = mlb.transform(preds)\n",
    "    score = fbeta_score(test, preds, beta=2, average='weighted')\n",
    "    \n",
    "    return test, preds, score\n",
    "\n",
    "\n",
    "# plot function for f2 score and loss after training\n",
    "def plot(result):\n",
    "    train_history = pd.DataFrame(result)\n",
    "\n",
    "    plt.plot(train_history['fbeta_score_K'])\n",
    "    plt.plot(train_history['val_fbeta_score_K'])\n",
    "    plt.title('model accuracy')\n",
    "    plt.ylabel('fbeta_score_K')\n",
    "    plt.xlabel('epoch')\n",
    "    plt.legend(['train', 'validation'], loc='upper left')\n",
    "    plt.show()\n",
    "\n",
    "    plt.plot(train_history['loss'])\n",
    "    plt.plot(train_history['val_loss'])\n",
    "    plt.title('model loss')\n",
    "    plt.ylabel('loss')\n",
    "    plt.xlabel('epoch')\n",
    "    plt.legend(['train', 'validation'], loc='upper left')\n",
    "    plt.show()"
   ]
  },
  {
   "cell_type": "markdown",
   "id": "f69cfc4a",
   "metadata": {},
   "source": [
    "### Function to process images for keras"
   ]
  },
  {
   "cell_type": "code",
   "execution_count": 12,
   "id": "7b74f231",
   "metadata": {},
   "outputs": [],
   "source": [
    "def data_generator(X_train_files_o, y_train_o, base_flg):\n",
    "    X_train_files, X_val_files, y_train, y_val = train_test_split(X_train_files_o, y_train_o, test_size=0.2, random_state=0)\n",
    "\n",
    "    train_df = pd.DataFrame(list(zip(X_train_files, y_train)), columns = ['image_name', 'tags'])\n",
    "    val_df = pd.DataFrame(list(zip(X_val_files, y_val)), columns = ['image_name', 'tags'])\n",
    "\n",
    "    train_df['tags'] = train_df['tags']\n",
    "    val_df['tags'] = val_df['tags']\n",
    "    \n",
    "    if base_flg == 1:\n",
    "        train_datagen = ImageDataGenerator(\n",
    "            rescale=1./255\n",
    "            )\n",
    "    else:\n",
    "        train_datagen = ImageDataGenerator(\n",
    "            rescale=1./255,\n",
    "            width_shift_range=0.2,\n",
    "            height_shift_range=0.2,\n",
    "            horizontal_flip=True,\n",
    "            vertical_flip=True\n",
    "            )\n",
    "        \n",
    "    train_generator = train_datagen.flow_from_dataframe(\n",
    "        train_df,\n",
    "        directory=TRAIN_PATH,\n",
    "        x_col='image_name',\n",
    "        y_col='tags',\n",
    "        target_size=(INPUT_SHAPE[0], INPUT_SHAPE[1]),\n",
    "        class_mode='categorical',\n",
    "        batch_size=BATCH_SIZE,\n",
    "        classes=labels,\n",
    "        )\n",
    "\n",
    "    val_datagen = ImageDataGenerator(\n",
    "        rescale=1./255\n",
    "        )\n",
    "\n",
    "    val_generator = val_datagen.flow_from_dataframe(\n",
    "        val_df,\n",
    "        directory=TRAIN_PATH,\n",
    "        x_col='image_name',\n",
    "        y_col='tags',\n",
    "        target_size=(INPUT_SHAPE[0], INPUT_SHAPE[1]),\n",
    "        class_mode='categorical',\n",
    "        batch_size=BATCH_SIZE,\n",
    "        classes=labels,\n",
    "        )\n",
    "\n",
    "    test_datagen = ImageDataGenerator(\n",
    "        rescale=1./255\n",
    "        )\n",
    "\n",
    "    test_generator = test_datagen.flow_from_dataframe(\n",
    "        df_test,\n",
    "        directory=TEST_PATH,\n",
    "        x_col='image_name',\n",
    "        y_col='tags',\n",
    "        target_size=(INPUT_SHAPE[0], INPUT_SHAPE[1]),\n",
    "        class_mode='categorical',\n",
    "        batch_size=BATCH_SIZE,\n",
    "        classes=labels,\n",
    "        shuffle=False,\n",
    "        )\n",
    "\n",
    "    return train_generator,val_generator,test_generator"
   ]
  },
  {
   "cell_type": "markdown",
   "id": "507bf8ba",
   "metadata": {},
   "source": [
    "### Baseline CNN"
   ]
  },
  {
   "cell_type": "code",
   "execution_count": 13,
   "id": "fefde255",
   "metadata": {},
   "outputs": [],
   "source": [
    "model_path = model_directory + 'CNN_Baseline_model' + '.h5'"
   ]
  },
  {
   "cell_type": "code",
   "execution_count": 14,
   "id": "deef695b",
   "metadata": {},
   "outputs": [],
   "source": [
    "### CNN_Baseline.py is shown here for illustration purpose\n",
    "'''\n",
    "import tensorflow as tf\n",
    "from tensorflow.keras.callbacks import EarlyStopping, ModelCheckpoint, Callback, ReduceLROnPlateau\n",
    "from tensorflow.keras.preprocessing.image import ImageDataGenerator\n",
    "from tensorflow.keras.backend import clear_session\n",
    "\n",
    "import keras\n",
    "from keras import backend as K\n",
    "#from keras.regularizers import l2\n",
    "#from keras.callbacks import ModelCheckpoint\n",
    "from keras.layers import Dense, Dropout, Flatten, Conv2D, MaxPool2D, AveragePooling2D\n",
    "#from keras.layers.normalization import BatchNormalization\n",
    "from keras.models import Sequential\n",
    "#from keras.optimizers import Adam\n",
    "\n",
    "def create_model():\n",
    "    model = Sequential([\n",
    "        Conv2D(32, kernel_size=(3, 3), activation='relu', padding='same', input_shape=(128, 128, 3)),\n",
    "        Conv2D(32, kernel_size=(3, 3), activation='relu'),\n",
    "        MaxPool2D(pool_size=(2, 2)),\n",
    "\n",
    "        Conv2D(64, kernel_size=(3, 3), activation='relu', padding='same'),\n",
    "        Conv2D(64, kernel_size=(3, 3), activation='relu'),\n",
    "        MaxPool2D(pool_size=(2, 2)),\n",
    "\n",
    "        Conv2D(128, kernel_size=(3, 3), activation='relu', padding='same'),\n",
    "        Conv2D(128, kernel_size=(3, 3), activation='relu'),\n",
    "        Conv2D(128, kernel_size=(3, 3), activation='relu'),\n",
    "        MaxPool2D(pool_size=(2, 2)),\n",
    "\n",
    "        Conv2D(256, kernel_size=(3, 3), activation='relu', padding='same'),\n",
    "        Conv2D(256, kernel_size=(3, 3), activation='relu'),\n",
    "        Conv2D(256, kernel_size=(3, 3), activation='relu'),\n",
    "        MaxPool2D(pool_size=(2, 2)),\n",
    "\n",
    "        Flatten(),\n",
    "        Dense(17, activation='sigmoid') \n",
    "    ])\n",
    "\n",
    "    return model\n",
    "''';"
   ]
  },
  {
   "cell_type": "code",
   "execution_count": 15,
   "id": "efcc4ee1",
   "metadata": {},
   "outputs": [
    {
     "name": "stdout",
     "output_type": "stream",
     "text": [
      "Found 25906 validated image filenames belonging to 17 classes.\n",
      "Found 6477 validated image filenames belonging to 17 classes.\n",
      "Found 8096 validated image filenames belonging to 17 classes.\n"
     ]
    }
   ],
   "source": [
    "# This cell was used for training and is shown here for illustration purpose\n",
    "train_generator, val_generator, test_generator = data_generator(X_train_files_o, y_train_o,1)\n",
    "'''\n",
    "adam = Adam(learning_rate=LR)\n",
    "\n",
    "cnn_base_model = baseline.create_model()\n",
    "\n",
    "clear_session()\n",
    "\n",
    "cnn_base_model.compile(loss='binary_crossentropy', optimizer=adam, metrics=[fbeta_score_K])\n",
    "\n",
    "callbacks = [\n",
    "    ModelCheckpoint(model_path, monitor='val_fbeta_score_K', save_best_only=True, mode='max'),\n",
    "    ReduceLROnPlateau(monitor='loss', factor=0.1, patience=3, mode='min', min_lr=0.000001)\n",
    "]\n",
    "\n",
    "history = cnn_base_model.fit(train_generator, epochs=EPOCHS, validation_data=val_generator, callbacks=callbacks,\n",
    "                   workers=WORKERS, use_multiprocessing=False, max_queue_size=MAXQ)\n",
    "\n",
    "# print('here', history.history.keys())\n",
    "\n",
    "\n",
    "cnn_base_model.load_weights(model_path)\n",
    "\n",
    "y_pred_b = cnn_base_model.predict(test_generator, workers=WORKERS, use_multiprocessing=False, max_queue_size=MAXQ)\n",
    "''';"
   ]
  },
  {
   "cell_type": "code",
   "execution_count": 16,
   "id": "950b79f9",
   "metadata": {},
   "outputs": [],
   "source": [
    "'''\n",
    "cnn_base_model.save(model_path, save_format='h5')\n",
    "''';"
   ]
  },
  {
   "cell_type": "code",
   "execution_count": 17,
   "id": "05810f9f",
   "metadata": {},
   "outputs": [],
   "source": [
    "dependencies = {'fbeta_score_K': fbeta_score_K} # dependent function needed to load the model\n",
    "\n",
    "cnn_base_model = load_model(model_path, custom_objects=dependencies)\n",
    "\n",
    "y_pred_b = cnn_base_model.predict(test_generator, workers=WORKERS, use_multiprocessing=False, \\\n",
    "                                  max_queue_size=MAXQ)"
   ]
  },
  {
   "cell_type": "code",
   "execution_count": 18,
   "id": "e2993ce8",
   "metadata": {},
   "outputs": [
    {
     "name": "stdout",
     "output_type": "stream",
     "text": [
      "Test F2 score = 0.828\n",
      "                   precision    recall  f1-score   support\n",
      "\n",
      "      agriculture       0.70      0.77      0.73      2460\n",
      "   artisinal_mine       0.50      0.49      0.50        61\n",
      "      bare_ground       0.17      0.14      0.15       168\n",
      "         blooming       0.07      0.05      0.06        73\n",
      "        blow_down       0.25      0.08      0.12        26\n",
      "            clear       0.94      0.96      0.95      5784\n",
      "           cloudy       0.69      0.85      0.76       381\n",
      "conventional_mine       0.40      0.17      0.24        23\n",
      "      cultivation       0.39      0.39      0.39       927\n",
      "       habitation       0.44      0.47      0.45       735\n",
      "             haze       0.59      0.67      0.63       512\n",
      "    partly_cloudy       0.86      0.87      0.86      1419\n",
      "          primary       0.97      0.98      0.98      7534\n",
      "             road       0.63      0.68      0.65      1619\n",
      "selective_logging       0.11      0.07      0.09        70\n",
      "       slash_burn       0.18      0.07      0.10        42\n",
      "            water       0.48      0.51      0.49      1453\n",
      "\n",
      "        micro avg       0.80      0.83      0.82     23287\n",
      "        macro avg       0.49      0.49      0.48     23287\n",
      "     weighted avg       0.81      0.83      0.82     23287\n",
      "      samples avg       0.85      0.87      0.84     23287\n",
      "\n"
     ]
    },
    {
     "name": "stderr",
     "output_type": "stream",
     "text": [
      "/home/jihoon/anaconda3/envs/tf38/lib/python3.8/site-packages/sklearn/metrics/_classification.py:1245: UndefinedMetricWarning: Precision and F-score are ill-defined and being set to 0.0 in samples with no predicted labels. Use `zero_division` parameter to control this behavior.\n",
      "  _warn_prf(average, modifier, msg_start, len(result))\n"
     ]
    }
   ],
   "source": [
    "test, pred, test_acc_cnn_base = calc_acc(y_test_o, y_pred_b)\n",
    "print('Test F2 score =', round(test_acc_cnn_base, 3))\n",
    "print(classification_report(test, pred, target_names=labels))"
   ]
  },
  {
   "cell_type": "code",
   "execution_count": 19,
   "id": "d45dc4e8",
   "metadata": {},
   "outputs": [],
   "source": [
    "'''\n",
    "plot(history.history,'CNN_Baseline_train_history.csv')\n",
    "print(\"Test Accuracy Score\", calc_acc(y_test_o, y_pred_b))\n",
    "''';"
   ]
  },
  {
   "cell_type": "markdown",
   "id": "6cd2d85e",
   "metadata": {},
   "source": [
    "### Haze-removed Dataset Import"
   ]
  },
  {
   "cell_type": "markdown",
   "id": "8815105b",
   "metadata": {},
   "source": [
    "For next models in this notebook, a haze removed image dataset was used. Since the labels and image filenames are still the same as the original dataset imported above, the model can use the haze removed dataset by simply specifying `DATASET_PATH` and its dependencies again."
   ]
  },
  {
   "cell_type": "code",
   "execution_count": 20,
   "id": "e742a4fd",
   "metadata": {},
   "outputs": [],
   "source": [
    "DATASET_PATH = 'dataset-haze-removed/'\n",
    "TRAIN_PATH = DATASET_PATH + 'train_file'\n",
    "TEST_PATH = DATASET_PATH + 'test_file'\n",
    "\n",
    "# TRAIN_CSV_PATH = DATASET_PATH + 'train_label.csv'\n",
    "# TEST_CSV_PATH = DATASET_PATH + 'test_label.csv'"
   ]
  },
  {
   "cell_type": "markdown",
   "id": "bfd8951c",
   "metadata": {},
   "source": [
    "### E. CNN_Baseline + Haze Removal + Data Augmentation + Batch Normalization + Drop out + Early Stopping"
   ]
  },
  {
   "cell_type": "markdown",
   "id": "47818991",
   "metadata": {},
   "source": [
    "The hyperparameters of this model were optimised to increase its prediction F2 score as much as possible. The code used for this optimisation and the optimised hyperparameters are shown below:"
   ]
  },
  {
   "cell_type": "code",
   "execution_count": 21,
   "id": "234119b9",
   "metadata": {},
   "outputs": [],
   "source": [
    "### Hyperparameter optimisation code\n",
    "\n",
    "'''\n",
    "### Hyperparameter grid\n",
    "DROPOUT_RATE = [0.1, 0.25, 0.5]\n",
    "PATIENCE = [5, 10, 20]\n",
    "\n",
    "### Import model\n",
    "results = []\n",
    "\n",
    "def run(BATCH_SIZE, DROPOUT_RATE, PATIENCE, LR):\n",
    "    \n",
    "\n",
    "    for dropout_rate in DROPOUT_RATE:\n",
    "        print('\\tdropout_rate =', dropout_rate)\n",
    "        for patience in PATIENCE:\n",
    "            print('\\t\\tpatience =', patience)\n",
    "            \n",
    "            train_generator, val_generator, test_generator = data_generator(X_train_files_o, y_train_o, \\\n",
    "                                                                            False, BATCH_SIZE)\n",
    "            model_path = 'CNN_last_weights' + '.h5'\n",
    "            adam = Adam(learning_rate=LR)\n",
    "            cnn_batch_model = batchN.create_model(dropout_rate)\n",
    "            clear_session() # tf backend\n",
    "            cnn_batch_model.compile(loss='binary_crossentropy', optimizer=adam, metrics=[fbeta_score_K])\n",
    "\n",
    "            callbacks = [\n",
    "                ModelCheckpoint(model_path, monitor='val_fbeta_score_K', save_best_only=True, mode='max'),\n",
    "                ReduceLROnPlateau(monitor='loss', factor=0.1, patience=3, mode='min', min_lr=0.000001),\n",
    "                EarlyStopping(monitor='val_loss', mode='min', verbose=1, patience=patience),\n",
    "            ]\n",
    "\n",
    "            history = cnn_batch_model.fit(train_generator, epochs=EPOCHS, validation_data=val_generator, \\\n",
    "                                          callbacks=callbacks, workers=WORKERS, use_multiprocessing=False, \\\n",
    "                                          max_queue_size=MAXQ)\n",
    "\n",
    "\n",
    "\n",
    "            cnn_batch_model.load_weights(model_path)\n",
    "\n",
    "            y_pred = cnn_batch_model.predict(test_generator, workers=WORKERS, use_multiprocessing=False, \\\n",
    "                                             max_queue_size=MAXQ)\n",
    "            \n",
    "            test_score = calc_acc(y_test_o, y_pred)\n",
    "            \n",
    "            results.append({'dropout_rate':dropout_rate, 'patience':patience, 'history':history.history, \\\n",
    "                            'test_f2_score':test_score})\n",
    "            \n",
    "run(BATCH_SIZE, DROPOUT_RATE, PATIENCE, LR)\n",
    "df_results = pd.DataFrame(results)\n",
    "''';"
   ]
  },
  {
   "cell_type": "code",
   "execution_count": 22,
   "id": "2cb09449",
   "metadata": {},
   "outputs": [],
   "source": [
    "### Optimised Hyperparameters\n",
    "# DROPOUT_RATE = 0.1\n",
    "# PATIENCE = 20\n",
    "# EPOCHS = 100"
   ]
  },
  {
   "cell_type": "code",
   "execution_count": 23,
   "id": "0a01ee75",
   "metadata": {},
   "outputs": [],
   "source": [
    "model_path = model_directory + 'CNN_E_model_0.1_20' + '.h5'"
   ]
  },
  {
   "cell_type": "code",
   "execution_count": 24,
   "id": "2c88549b",
   "metadata": {},
   "outputs": [],
   "source": [
    "### CNN_BatchN.py is shown here for illustration purpose\n",
    "'''\n",
    "import tensorflow as tf\n",
    "from tensorflow.keras.callbacks import EarlyStopping, ModelCheckpoint, Callback, ReduceLROnPlateau\n",
    "from tensorflow.keras.preprocessing.image import ImageDataGenerator\n",
    "from tensorflow.keras.backend import clear_session\n",
    "\n",
    "import keras\n",
    "from keras import backend as K\n",
    "#from keras.regularizers import l2\n",
    "#from keras.callbacks import ModelCheckpoint\n",
    "from keras.layers import Dense, Dropout, Flatten, Conv2D, MaxPool2D, AveragePooling2D\n",
    "from keras.layers.normalization import BatchNormalization\n",
    "from keras.models import Sequential\n",
    "#from keras.optimizers import Adam\n",
    "\n",
    "def create_model(dropout):\n",
    "    model = Sequential([\n",
    "        Conv2D(32, kernel_size=(3, 3), activation='relu', padding='same', input_shape=(128, 128, 3)),\n",
    "        BatchNormalization(),\n",
    "\tConv2D(32, kernel_size=(3, 3), activation='relu'),\n",
    "        MaxPool2D(pool_size=(2, 2)),\n",
    "\tDropout(dropout),\n",
    "\n",
    "        Conv2D(64, kernel_size=(3, 3), activation='relu', padding='same'),\n",
    "\tBatchNormalization(),\n",
    "        Conv2D(64, kernel_size=(3, 3), activation='relu'),\n",
    "        MaxPool2D(pool_size=(2, 2)),\n",
    "\tDropout(dropout),\n",
    "\n",
    "        Conv2D(128, kernel_size=(3, 3), activation='relu', padding='same'),\n",
    "\tBatchNormalization(),\n",
    "        Conv2D(128, kernel_size=(3, 3), activation='relu'),\n",
    "        Conv2D(128, kernel_size=(3, 3), activation='relu'),\n",
    "        MaxPool2D(pool_size=(2, 2)),\n",
    "\tDropout(dropout),\n",
    "\n",
    "        Conv2D(256, kernel_size=(3, 3), activation='relu', padding='same'),\n",
    "\tBatchNormalization(),\n",
    "        Conv2D(256, kernel_size=(3, 3), activation='relu'),\n",
    "        Conv2D(256, kernel_size=(3, 3), activation='relu'),\n",
    "        MaxPool2D(pool_size=(2, 2)),\n",
    "\tDropout(dropout),\n",
    "\n",
    "        Flatten(),\n",
    "        Dense(17, activation='sigmoid') \n",
    "    ])\n",
    "\n",
    "    return model\n",
    "''';"
   ]
  },
  {
   "cell_type": "code",
   "execution_count": 25,
   "id": "46b0b9f9",
   "metadata": {},
   "outputs": [
    {
     "name": "stdout",
     "output_type": "stream",
     "text": [
      "Found 25906 validated image filenames belonging to 17 classes.\n",
      "Found 6477 validated image filenames belonging to 17 classes.\n",
      "Found 8096 validated image filenames belonging to 17 classes.\n"
     ]
    }
   ],
   "source": [
    "train_generator, val_generator, test_generator = data_generator(X_train_files_o, y_train_o, 0)\n",
    "\n",
    "'''\n",
    "adam = Adam(learning_rate=LR)\n",
    "\n",
    "cnn_batch_model = batchN.create_model(DROPOUT_RATE)\n",
    "\n",
    "clear_session()\n",
    "\n",
    "cnn_batch_model.compile(loss='binary_crossentropy', optimizer=adam, metrics=[fbeta_score_K])\n",
    "\n",
    "callbacks = [\n",
    "    ModelCheckpoint(model_path, monitor='val_fbeta_score_K', save_best_only=True, mode='max'),\n",
    "    ReduceLROnPlateau(monitor='loss', factor=0.1, patience=3, mode='min', min_lr=0.000001),\n",
    "    EarlyStopping(monitor='val_loss', mode='min', verbose=1, patience=PATIENCE),\n",
    "]\n",
    "\n",
    "history = cnn_batch_model.fit(train_generator, epochs=EPOCHS, validation_data=val_generator, callbacks=callbacks,\n",
    "                   workers=WORKERS, use_multiprocessing=False, max_queue_size=MAXQ)\n",
    "''';"
   ]
  },
  {
   "cell_type": "code",
   "execution_count": 26,
   "id": "ad12a1c9",
   "metadata": {},
   "outputs": [],
   "source": [
    "'''\n",
    "cnn_batch_model.save(model_path, save_format='h5')\n",
    "''';"
   ]
  },
  {
   "cell_type": "code",
   "execution_count": 27,
   "id": "6979ffff",
   "metadata": {},
   "outputs": [],
   "source": [
    "cnn_batch_model = load_model(model_path, custom_objects=dependencies)\n",
    "\n",
    "y_pred_hr_da_do_es_bn = cnn_batch_model.predict(test_generator, workers=WORKERS, \\\n",
    "                                                use_multiprocessing=False, max_queue_size=MAXQ)"
   ]
  },
  {
   "cell_type": "code",
   "execution_count": 28,
   "id": "f54d4b18",
   "metadata": {},
   "outputs": [
    {
     "name": "stdout",
     "output_type": "stream",
     "text": [
      "Test F2 score = 0.9\n",
      "                   precision    recall  f1-score   support\n",
      "\n",
      "      agriculture       0.71      0.94      0.81      2460\n",
      "   artisinal_mine       0.69      0.77      0.73        61\n",
      "      bare_ground       0.32      0.26      0.29       168\n",
      "         blooming       0.25      0.16      0.20        73\n",
      "        blow_down       0.06      0.12      0.08        26\n",
      "            clear       0.95      0.98      0.96      5784\n",
      "           cloudy       0.66      0.93      0.77       381\n",
      "conventional_mine       0.79      0.48      0.59        23\n",
      "      cultivation       0.43      0.73      0.54       927\n",
      "       habitation       0.67      0.66      0.66       735\n",
      "             haze       0.50      0.80      0.62       512\n",
      "    partly_cloudy       0.83      0.96      0.89      1419\n",
      "          primary       0.97      1.00      0.98      7534\n",
      "             road       0.64      0.92      0.76      1619\n",
      "selective_logging       0.24      0.50      0.32        70\n",
      "       slash_burn       0.11      0.07      0.09        42\n",
      "            water       0.73      0.75      0.74      1453\n",
      "\n",
      "        micro avg       0.81      0.92      0.86     23287\n",
      "        macro avg       0.56      0.65      0.59     23287\n",
      "     weighted avg       0.83      0.92      0.87     23287\n",
      "      samples avg       0.85      0.94      0.88     23287\n",
      "\n"
     ]
    }
   ],
   "source": [
    "test, pred, test_acc_BatchN = calc_acc(y_test_o, y_pred_hr_da_do_es_bn)\n",
    "print('Test F2 score =', round(test_acc_BatchN, 3))\n",
    "print(classification_report(test, pred, target_names=labels))"
   ]
  },
  {
   "cell_type": "code",
   "execution_count": 29,
   "id": "6ff09576",
   "metadata": {},
   "outputs": [],
   "source": [
    "'''\n",
    "plot(history.history,'CNN_E_train_history.csv')\n",
    "print(\"Test Accuracy Score\", calc_acc(y_test_o, y_pred_hr_da_do_es_bn))\n",
    "''';"
   ]
  },
  {
   "cell_type": "markdown",
   "id": "5083afd9",
   "metadata": {},
   "source": [
    "### F. MobileNet + Haze Removal + Data Augmentation + Early Stopping"
   ]
  },
  {
   "cell_type": "code",
   "execution_count": 30,
   "id": "81e11723",
   "metadata": {},
   "outputs": [],
   "source": [
    "model_path = model_directory + 'CNN_F_model' + '.h5'"
   ]
  },
  {
   "cell_type": "code",
   "execution_count": 31,
   "id": "dc916bb9",
   "metadata": {},
   "outputs": [],
   "source": [
    "### Mobilenet.py is shown here for illustration purpose\n",
    "\n",
    "'''\n",
    "import tensorflow as tf\n",
    "from tensorflow.keras.callbacks import EarlyStopping, ModelCheckpoint, Callback, ReduceLROnPlateau\n",
    "from tensorflow.keras.preprocessing.image import ImageDataGenerator\n",
    "from tensorflow.keras.backend import clear_session\n",
    "\n",
    "import keras\n",
    "from keras import backend as K\n",
    "#from keras.regularizers import l2\n",
    "#from keras.callbacks import ModelCheckpoint\n",
    "from keras.layers import Dense, Dropout, Flatten, Conv2D, MaxPool2D, AveragePooling2D, Input\n",
    "from keras.layers.normalization import BatchNormalization\n",
    "from keras.models import Sequential, Model\n",
    "#from keras.optimizers import Adam\n",
    "from tensorflow.keras.applications import MobileNet\n",
    "\n",
    "# Define MobileNet model for Haze removal\n",
    "def create_model():\n",
    "    img = Input(shape = (128, 128, 3))\n",
    "    model_mob = MobileNet(include_top=False, weights='imagenet', input_tensor=img, input_shape=None, pooling='avg')\n",
    "\n",
    "    final_layer = model_mob.layers[-1].output\n",
    "    dense_layer_1 = Dense(128, activation = 'relu')(final_layer)\n",
    "    output_layer = Dense(17, activation = 'sigmoid')(dense_layer_1)\n",
    "\n",
    "    model = Model(model_mob.input, output_layer)\n",
    "\n",
    "    return model\n",
    "\n",
    "''';"
   ]
  },
  {
   "cell_type": "code",
   "execution_count": 32,
   "id": "73fdf526",
   "metadata": {},
   "outputs": [
    {
     "name": "stdout",
     "output_type": "stream",
     "text": [
      "Found 25906 validated image filenames belonging to 17 classes.\n",
      "Found 6477 validated image filenames belonging to 17 classes.\n",
      "Found 8096 validated image filenames belonging to 17 classes.\n"
     ]
    }
   ],
   "source": [
    "train_generator, val_generator, test_generator = data_generator(X_train_files_o, y_train_o,0)\n",
    "\n",
    "'''\n",
    "adam = Adam(learning_rate=LR)\n",
    "\n",
    "mobnet_model = mobnet.create_model()\n",
    "\n",
    "clear_session()\n",
    "mobnet_model.compile(loss='binary_crossentropy', optimizer=adam, metrics=[fbeta_score_K])\n",
    "\n",
    "callbacks = [\n",
    "    ModelCheckpoint(model_path, monitor='val_fbeta_score_K', save_best_only=True, mode='max'),\n",
    "    ReduceLROnPlateau(monitor='loss', factor=0.1, patience=3, mode='min', min_lr=0.000001),\n",
    "    EarlyStopping(monitor='val_loss', mode='min', verbose=1, patience=PATIENCE)\n",
    "]\n",
    "\n",
    "history = mobnet_model.fit(train_generator, epochs=EPOCHS, validation_data=val_generator, callbacks=callbacks,\n",
    "                   workers=WORKERS, use_multiprocessing=False, max_queue_size=MAXQ)\n",
    "''';\n"
   ]
  },
  {
   "cell_type": "code",
   "execution_count": 33,
   "id": "a27b3a4f",
   "metadata": {},
   "outputs": [],
   "source": [
    "'''\n",
    "mobnet_model.save(model_path, save_format='h5')\n",
    "''';"
   ]
  },
  {
   "cell_type": "code",
   "execution_count": 34,
   "id": "688d662d",
   "metadata": {},
   "outputs": [],
   "source": [
    "mobnet_model = load_model(model_path, custom_objects=dependencies)\n",
    "\n",
    "y_pred_mobnet = mobnet_model.predict(test_generator, workers=WORKERS, use_multiprocessing=False, \\\n",
    "                                     max_queue_size=MAXQ)"
   ]
  },
  {
   "cell_type": "code",
   "execution_count": 35,
   "id": "c812d20a",
   "metadata": {},
   "outputs": [
    {
     "name": "stdout",
     "output_type": "stream",
     "text": [
      "Test F2 score = 0.902\n",
      "                   precision    recall  f1-score   support\n",
      "\n",
      "      agriculture       0.76      0.92      0.83      2460\n",
      "   artisinal_mine       0.68      0.72      0.70        61\n",
      "      bare_ground       0.29      0.37      0.32       168\n",
      "         blooming       0.24      0.14      0.18        73\n",
      "        blow_down       0.33      0.08      0.12        26\n",
      "            clear       0.95      0.98      0.96      5784\n",
      "           cloudy       0.67      0.93      0.78       381\n",
      "conventional_mine       0.60      0.39      0.47        23\n",
      "      cultivation       0.48      0.69      0.57       927\n",
      "       habitation       0.48      0.79      0.60       735\n",
      "             haze       0.55      0.74      0.63       512\n",
      "    partly_cloudy       0.83      0.95      0.88      1419\n",
      "          primary       0.97      0.99      0.98      7534\n",
      "             road       0.71      0.88      0.79      1619\n",
      "selective_logging       0.28      0.30      0.29        70\n",
      "       slash_burn       0.31      0.10      0.15        42\n",
      "            water       0.73      0.82      0.77      1453\n",
      "\n",
      "        micro avg       0.82      0.92      0.87     23287\n",
      "        macro avg       0.58      0.63      0.59     23287\n",
      "     weighted avg       0.84      0.92      0.88     23287\n",
      "      samples avg       0.86      0.94      0.89     23287\n",
      "\n"
     ]
    }
   ],
   "source": [
    "test, pred, test_acc_mobnet = calc_acc(y_test_o, y_pred_mobnet)\n",
    "print('Test F2 score =', round(test_acc_mobnet, 3))\n",
    "print(classification_report(test, pred, target_names=labels))"
   ]
  },
  {
   "cell_type": "code",
   "execution_count": 36,
   "id": "2d1b7879",
   "metadata": {},
   "outputs": [],
   "source": [
    "'''\n",
    "plot(history.history,'CNN_F_train_history.csv')\n",
    "print(\"Test Accuracy Score\", calc_acc(y_test_o, y_pred_mobnet))\n",
    "''';"
   ]
  },
  {
   "cell_type": "markdown",
   "id": "80fc8479",
   "metadata": {},
   "source": [
    "### G. VGG16 + Haze Removal + Data Augmentation + Early Stopping"
   ]
  },
  {
   "cell_type": "code",
   "execution_count": 37,
   "id": "53642467",
   "metadata": {},
   "outputs": [],
   "source": [
    "model_path = model_directory + 'CNN_G_model' + '.h5'"
   ]
  },
  {
   "cell_type": "code",
   "execution_count": 38,
   "id": "4616fa14",
   "metadata": {},
   "outputs": [],
   "source": [
    "### VGG16.py is shown here for illustration purpose\n",
    "\n",
    "'''\n",
    "import keras\n",
    "import tensorflow as tf\n",
    "from keras import backend as K\n",
    "from keras.layers import Dense, Flatten, InputLayer\n",
    "from keras.models import Sequential, Model\n",
    "from tensorflow.keras.applications import VGG16\n",
    "\n",
    "\n",
    "INPUT_SHAPE = (128, 128, 3)\n",
    " \n",
    "\n",
    "def create_model():\n",
    "    model = Sequential()\n",
    "    model.add(InputLayer(INPUT_SHAPE))\n",
    "    model.add(VGG16(weights='imagenet', include_top=False))\n",
    "    model.add(Flatten())\n",
    "    model.add(Dense(17, activation='sigmoid'))\n",
    "    return model\n",
    "''';"
   ]
  },
  {
   "cell_type": "code",
   "execution_count": 39,
   "id": "709d23c9",
   "metadata": {},
   "outputs": [
    {
     "name": "stdout",
     "output_type": "stream",
     "text": [
      "Found 25906 validated image filenames belonging to 17 classes.\n",
      "Found 6477 validated image filenames belonging to 17 classes.\n",
      "Found 8096 validated image filenames belonging to 17 classes.\n"
     ]
    }
   ],
   "source": [
    "train_generator, val_generator, test_generator = data_generator(X_train_files_o, y_train_o,0)\n",
    "\n",
    "'''\n",
    "model_path = model_directory + 'CNN_G_model' + '.h5'\n",
    "\n",
    "\n",
    "adam = Adam(learning_rate=LR)\n",
    "\n",
    "vgg16_model = vgg16.create_model()\n",
    "\n",
    "clear_session()\n",
    "vgg16_model.compile(loss='binary_crossentropy', optimizer=adam, metrics=[fbeta_score_K])\n",
    "\n",
    "callbacks = [\n",
    "    ModelCheckpoint(model_path, monitor='val_fbeta_score_K', save_best_only=True, mode='max'),\n",
    "    ReduceLROnPlateau(monitor='loss', factor=0.1, patience=3, mode='min', min_lr=0.000001),\n",
    "    EarlyStopping(monitor='val_loss', mode='min', verbose=1, patience=PATIENCE)\n",
    "]\n",
    "\n",
    "history = vgg16_model.fit(train_generator, epochs=EPOCHS, validation_data=val_generator, callbacks=callbacks,\n",
    "                   workers=WORKERS, use_multiprocessing=False, max_queue_size=MAXQ)\n",
    "''';"
   ]
  },
  {
   "cell_type": "code",
   "execution_count": 40,
   "id": "e63944ae",
   "metadata": {},
   "outputs": [],
   "source": [
    "'''\n",
    "vgg16_model.save(model_path, save_format='h5')\n",
    "''';"
   ]
  },
  {
   "cell_type": "code",
   "execution_count": 41,
   "id": "6e547a75",
   "metadata": {},
   "outputs": [],
   "source": [
    "dependencies = {'fbeta_score_K': fbeta_score_K}\n",
    "vgg16_model = load_model(model_path, custom_objects=dependencies)\n",
    "\n",
    "y_pred_vgg16 = vgg16_model.predict(test_generator, workers=WORKERS, use_multiprocessing=False, \\\n",
    "                                   max_queue_size=MAXQ)"
   ]
  },
  {
   "cell_type": "code",
   "execution_count": 42,
   "id": "fa99fd14",
   "metadata": {},
   "outputs": [
    {
     "name": "stdout",
     "output_type": "stream",
     "text": [
      "Test F2 score = 0.907\n",
      "                   precision    recall  f1-score   support\n",
      "\n",
      "      agriculture       0.74      0.93      0.82      2460\n",
      "   artisinal_mine       0.59      0.82      0.68        61\n",
      "      bare_ground       0.39      0.24      0.30       168\n",
      "         blooming       0.33      0.21      0.25        73\n",
      "        blow_down       0.46      0.23      0.31        26\n",
      "            clear       0.94      0.98      0.96      5784\n",
      "           cloudy       0.74      0.90      0.81       381\n",
      "conventional_mine       0.73      0.48      0.58        23\n",
      "      cultivation       0.47      0.69      0.56       927\n",
      "       habitation       0.61      0.77      0.68       735\n",
      "             haze       0.59      0.73      0.66       512\n",
      "    partly_cloudy       0.85      0.97      0.91      1419\n",
      "          primary       0.96      1.00      0.98      7534\n",
      "             road       0.66      0.93      0.77      1619\n",
      "selective_logging       0.31      0.51      0.39        70\n",
      "       slash_burn       0.83      0.12      0.21        42\n",
      "            water       0.72      0.81      0.76      1453\n",
      "\n",
      "        micro avg       0.82      0.93      0.87     23287\n",
      "        macro avg       0.64      0.67      0.63     23287\n",
      "     weighted avg       0.84      0.93      0.88     23287\n",
      "      samples avg       0.87      0.94      0.89     23287\n",
      "\n"
     ]
    }
   ],
   "source": [
    "test, pred, test_acc_vgg16 = calc_acc(y_test_o, y_pred_vgg16)\n",
    "print('Test F2 score =', round(test_acc_vgg16, 3))\n",
    "print(classification_report(test, pred, target_names=labels))"
   ]
  },
  {
   "cell_type": "markdown",
   "id": "942d6df3",
   "metadata": {},
   "source": [
    "### XGBoost"
   ]
  },
  {
   "cell_type": "code",
   "execution_count": 43,
   "id": "ff67f056",
   "metadata": {},
   "outputs": [],
   "source": [
    "import random\n",
    "import xgboost as xgb\n",
    "import scipy\n",
    "from PIL import Image"
   ]
  },
  {
   "cell_type": "code",
   "execution_count": 44,
   "id": "ed6cf146",
   "metadata": {},
   "outputs": [],
   "source": [
    "# Set the seed to remove randomness\n",
    "random_seed = 1\n",
    "random.seed(random_seed)\n",
    "np.random.seed(random_seed)"
   ]
  },
  {
   "cell_type": "code",
   "execution_count": 45,
   "id": "7056910f",
   "metadata": {},
   "outputs": [],
   "source": [
    "# # Function to extract the image features for XGBoost\n",
    "# def extract_features(df, data_path):\n",
    "#     im_features = df.copy()\n",
    "\n",
    "#     N = len(im_features.image_name.values)\n",
    "\n",
    "#     r_mean = np.zeros(N)\n",
    "#     g_mean = np.zeros(N)\n",
    "#     b_mean = np.zeros(N)\n",
    "\n",
    "#     r_std = np.zeros(N)\n",
    "#     g_std = np.zeros(N)\n",
    "#     b_std = np.zeros(N)\n",
    "\n",
    "#     r_max = np.zeros(N)\n",
    "#     g_max = np.zeros(N)\n",
    "#     b_max = np.zeros(N)\n",
    "\n",
    "#     r_min = np.zeros(N)\n",
    "#     g_min = np.zeros(N)\n",
    "#     b_min = np.zeros(N)\n",
    "\n",
    "#     r_kurtosis = np.zeros(N)\n",
    "#     g_kurtosis = np.zeros(N)\n",
    "#     b_kurtosis = np.zeros(N)\n",
    "    \n",
    "#     r_skewness = np.zeros(N)\n",
    "#     g_skewness = np.zeros(N)\n",
    "#     b_skewness = np.zeros(N)\n",
    "\n",
    "#     for i, image_name in enumerate(im_features.image_name.values): \n",
    "#         im = Image.open(data_path + image_name)\n",
    "#         im = np.array(im)[:,:,:3]\n",
    "\n",
    "#         r = im[:,:,0].ravel()\n",
    "#         g = im[:,:,1].ravel()\n",
    "#         b = im[:,:,2].ravel()\n",
    "        \n",
    "#         r_mean[i] = np.mean(r)\n",
    "#         g_mean[i] = np.mean(g)\n",
    "#         b_mean[i] = np.mean(b)\n",
    "\n",
    "#         r_std[i] = np.std(r)\n",
    "#         g_std[i] = np.std(g)\n",
    "#         b_std[i] = np.std(b)\n",
    "\n",
    "#         r_max[i] = np.max(r)\n",
    "#         g_max[i] = np.max(g)\n",
    "#         b_max[i] = np.max(b)\n",
    "\n",
    "#         r_min[i] = np.min(r)\n",
    "#         g_min[i] = np.min(g)\n",
    "#         b_min[i] = np.min(b)\n",
    "\n",
    "#         r_kurtosis[i] = scipy.stats.kurtosis(r)\n",
    "#         g_kurtosis[i] = scipy.stats.kurtosis(g)\n",
    "#         b_kurtosis[i] = scipy.stats.kurtosis(b)\n",
    "        \n",
    "#         r_skewness[i] = scipy.stats.skew(r)\n",
    "#         g_skewness[i] = scipy.stats.skew(g)\n",
    "#         b_skewness[i] = scipy.stats.skew(b)\n",
    "\n",
    "\n",
    "#     im_features['r_mean'] = r_mean\n",
    "#     im_features['g_mean'] = g_mean\n",
    "#     im_features['b_mean'] = b_mean\n",
    "\n",
    "#     im_features['rgb_mean_mean'] = (r_mean + g_mean + b_mean)/3.0\n",
    "\n",
    "#     im_features['r_std'] = r_std\n",
    "#     im_features['g_std'] = g_std\n",
    "#     im_features['b_std'] = b_std\n",
    "\n",
    "#     im_features['rgb_mean_std'] = (r_std + g_std + b_std)/3.0\n",
    "\n",
    "#     im_features['r_max'] = r_max\n",
    "#     im_features['g_max'] = g_max\n",
    "#     im_features['b_max'] = b_max\n",
    "\n",
    "#     im_features['rgb_mean_max'] = (r_max + r_max + b_max)/3.0\n",
    "\n",
    "#     im_features['r_min'] = r_min\n",
    "#     im_features['g_min'] = g_min\n",
    "#     im_features['b_min'] = b_min\n",
    "\n",
    "#     im_features['rgb_mean_min'] = (r_min + g_min + b_min)/3.0\n",
    "\n",
    "#     im_features['r_range'] = r_max - r_min\n",
    "#     im_features['g_range'] = g_max - g_min\n",
    "#     im_features['b_range'] = b_max - b_min\n",
    "\n",
    "#     im_features['r_kurtosis'] = r_kurtosis\n",
    "#     im_features['g_kurtosis'] = g_kurtosis\n",
    "#     im_features['b_kurtosis'] = b_kurtosis\n",
    "    \n",
    "#     im_features['r_skewness'] = r_skewness\n",
    "#     im_features['g_skewness'] = g_skewness\n",
    "#     im_features['b_skewness'] = b_skewness\n",
    "    \n",
    "#     return im_features\n"
   ]
  },
  {
   "cell_type": "code",
   "execution_count": 46,
   "id": "ebcb3fb7",
   "metadata": {},
   "outputs": [],
   "source": [
    "# # Extract features\n",
    "# print('Extracting train features')\n",
    "# train_features = extract_features(df_train, TRAIN_PATH + '/')\n",
    "# print('Extracting test features')\n",
    "# test_features = extract_features(df_test, TEST_PATH + '/')\n",
    "\n",
    "# # Save the extracted features\n",
    "# import pickle\n",
    "\n",
    "# train_feat = open(model_directory + 'train_features_xgb.pickle', 'wb')\n",
    "# pickle.dump(train_features, train_feat, protocol=4)\n",
    "# train_feat.close()\n",
    "\n",
    "# test_feat = open(model_directory + 'test_features_xgb.pickle', 'wb')\n",
    "# pickle.dump(test_features, test_feat, protocol=4)\n",
    "# test_feat.close()"
   ]
  },
  {
   "cell_type": "code",
   "execution_count": 47,
   "id": "e4fd1733",
   "metadata": {},
   "outputs": [],
   "source": [
    "# Load the pickled features:\n",
    "import pickle\n",
    "\n",
    "pickle_XGtrain = open(model_directory + 'train_features_xgb.pickle', 'rb')\n",
    "train_features = pickle.load(pickle_XGtrain)\n",
    "\n",
    "pickle_yGtrain = open(model_directory + 'test_features_xgb.pickle', 'rb')\n",
    "test_features = pickle.load(pickle_yGtrain)"
   ]
  },
  {
   "cell_type": "code",
   "execution_count": 48,
   "id": "c50a2347",
   "metadata": {},
   "outputs": [],
   "source": [
    "# Prepare train dataset\n",
    "X_train_xgb = np.array(train_features.drop(['image_name', 'tags'], axis=1))\n",
    "mlb = MultiLabelBinarizer(classes=labels)\n",
    "y_train_xgb = mlb.fit_transform(y_train_o)\n",
    "\n",
    "n_classes = len(labels) # 17 classes in total\n",
    "#Create X_test dataset\n",
    "X_test_xgb = np.array(test_features.drop(['image_name', 'tags'], axis=1))"
   ]
  },
  {
   "cell_type": "code",
   "execution_count": 49,
   "id": "ffdaddd1",
   "metadata": {},
   "outputs": [],
   "source": [
    "# Empty array for train and test predictions\n",
    "train_pred_xgb = np.zeros((X_train_xgb.shape[0], n_classes)) # (num_of_train_images, n_classes=17)\n",
    "y_pred_xgb = np.zeros((X_test_xgb.shape[0], n_classes)) # (num_of_test_images, n_classes=17)"
   ]
  },
  {
   "cell_type": "markdown",
   "id": "dea6f15f",
   "metadata": {},
   "source": [
    "The hyperparameters of this model were optimised to increase its prediction F2 score as much as possible. The code used for this optimisation and the optimised hyperparameters are shown below:"
   ]
  },
  {
   "cell_type": "code",
   "execution_count": 50,
   "id": "3af23bc5",
   "metadata": {},
   "outputs": [],
   "source": [
    "### Hyperparameter optimisation code\n",
    "\n",
    "'''\n",
    "# Hyperparameter grid\n",
    "MAX_DEPTH = [2, 5, 10]\n",
    "N_ESTIMATORS = [100, 200, 500]\n",
    "\n",
    "\n",
    "def run(MAX_DEPTH, N_ESTIMATORS):\n",
    "    results = []\n",
    "    \n",
    "    for max_depth in MAX_DEPTH:\n",
    "        print('max_depth =', max_depth)\n",
    "        for n_estimators in N_ESTIMATORS:\n",
    "            print('n_estimators =', n_estimators)\n",
    "#             train_pred_xgb = np.zeros((X_train_xgb.shape[0], n_classes)) # (num_of_train_images, n_classes=17)\n",
    "            y_val_pred = np.zeros((X_val_xgb.shape[0], n_classes)) # (num_of_val_images, n_classes=17)\n",
    "            y_test_pred = np.zeros((X_test_xgb.shape[0], n_classes)) # (num_of_test_images, n_classes=17)\n",
    "\n",
    "            for i in tqdm(range(n_classes), miniters=1, leave=False): \n",
    "#                 print(\"i =\", i, labels[i])\n",
    "                model = xgb.XGBClassifier(max_depth=max_depth, learning_rate=0.1, n_estimators=n_estimators, \\\n",
    "                                          objective='binary:logistic', n_jobs=-1, \\\n",
    "                                          gamma=0, min_child_weight=1, max_delta_step=0, \\\n",
    "                                          subsample=1, colsample_bytree=1, colsample_bylevel=1, \\\n",
    "                                          reg_alpha=0, reg_lambda=1, scale_pos_weight=1, \\\n",
    "                                          base_score=0.5, seed=random_seed, \\\n",
    "                                          use_label_encoder=False, eval_metric='error', \\\n",
    "                                         )\n",
    "\n",
    "                model.fit(X_train_xgb, y_train_xgb[:, i])\n",
    "        \n",
    "                y_val_pred[:, i] = model.predict_proba(X_val_xgb)[:,1] # prediction on test set\n",
    "                y_test_pred[:, i] = model.predict_proba(X_test_xgb)[:,1] # prediction on test set\n",
    "\n",
    "            val_score = calc_acc(y_val, y_val_pred, labels)\n",
    "            test_score = calc_acc(y_test, y_test_pred, labels)\n",
    "            print(\"val_f2_score = {} test_f2_score = {}\".format(round(val_score, 3), round(test_score, 3)))\n",
    "\n",
    "            results.append({'max_depth': max_depth, 'n_estimators': n_estimators, \\\n",
    "                            'val_f2_score': val_score, 'test_f2_score': test_score})\n",
    "                \n",
    "    return results\n",
    "''';"
   ]
  },
  {
   "cell_type": "markdown",
   "id": "fdacae1d",
   "metadata": {},
   "source": [
    "#### XGBoost Training and Testing"
   ]
  },
  {
   "cell_type": "code",
   "execution_count": 51,
   "id": "ffc8732b",
   "metadata": {},
   "outputs": [
    {
     "name": "stdout",
     "output_type": "stream",
     "text": [
      "i = 0 agriculture\n"
     ]
    },
    {
     "name": "stderr",
     "output_type": "stream",
     "text": [
      "/home/jihoon/anaconda3/envs/tf38/lib/python3.8/site-packages/xgboost/data.py:112: UserWarning: Use subset (sliced data) of np.ndarray is not recommended because it will generate extra copies and increase memory consumption\n",
      "  warnings.warn(\n"
     ]
    },
    {
     "name": "stdout",
     "output_type": "stream",
     "text": [
      "i = 1 artisinal_mine\n",
      "i = 2 bare_ground\n",
      "i = 3 blooming\n",
      "i = 4 blow_down\n",
      "i = 5 clear\n",
      "i = 6 cloudy\n",
      "i = 7 conventional_mine\n",
      "i = 8 cultivation\n",
      "i = 9 habitation\n",
      "i = 10 haze\n",
      "i = 11 partly_cloudy\n",
      "i = 12 primary\n",
      "i = 13 road\n",
      "i = 14 selective_logging\n",
      "i = 15 slash_burn\n",
      "i = 16 water\n"
     ]
    }
   ],
   "source": [
    "for i in range(n_classes): \n",
    "    print(\"i =\", i, labels[i])\n",
    "    model = xgb.XGBClassifier(max_depth=5, learning_rate=0.1, n_estimators=200, \\\n",
    "                              objective='binary:logistic', n_jobs=-1, \\\n",
    "                              gamma=0, min_child_weight=1, max_delta_step=0, \\\n",
    "                              subsample=1, colsample_bytree=1, colsample_bylevel=1, \\\n",
    "                              reg_alpha=0, reg_lambda=1, scale_pos_weight=1, \\\n",
    "                              base_score=0.5, seed=random_seed, \\\n",
    "                              use_label_encoder=False, eval_metric='error', \\\n",
    "                             )\n",
    "    \n",
    "    model.fit(X_train_xgb, y_train_xgb[:, i])\n",
    "    train_pred_xgb[:, i] = model.predict_proba(X_train_xgb)[:,1] # prediction on train set\n",
    "    y_pred_xgb[:, i] = model.predict_proba(X_test_xgb)[:,1] # prediction on test set"
   ]
  },
  {
   "cell_type": "code",
   "execution_count": 52,
   "id": "d9f0183c",
   "metadata": {},
   "outputs": [
    {
     "name": "stdout",
     "output_type": "stream",
     "text": [
      "Test F2 score = 0.8719561482349918\n",
      "                   precision    recall  f1-score   support\n",
      "\n",
      "      agriculture       0.63      0.92      0.75      2460\n",
      "   artisinal_mine       0.65      0.70      0.68        61\n",
      "      bare_ground       0.33      0.21      0.26       168\n",
      "         blooming       0.18      0.04      0.07        73\n",
      "        blow_down       1.00      0.04      0.07        26\n",
      "            clear       0.90      0.99      0.94      5784\n",
      "           cloudy       0.68      0.88      0.77       381\n",
      "conventional_mine       0.67      0.17      0.28        23\n",
      "      cultivation       0.38      0.62      0.47       927\n",
      "       habitation       0.52      0.76      0.62       735\n",
      "             haze       0.55      0.78      0.64       512\n",
      "    partly_cloudy       0.71      0.90      0.80      1419\n",
      "          primary       0.96      1.00      0.98      7534\n",
      "             road       0.53      0.87      0.66      1619\n",
      "selective_logging       0.19      0.07      0.10        70\n",
      "       slash_burn       0.20      0.02      0.04        42\n",
      "            water       0.41      0.73      0.53      1453\n",
      "\n",
      "        micro avg       0.73      0.91      0.81     23287\n",
      "        macro avg       0.56      0.57      0.51     23287\n",
      "     weighted avg       0.77      0.91      0.83     23287\n",
      "      samples avg       0.80      0.93      0.84     23287\n",
      "\n"
     ]
    }
   ],
   "source": [
    "test, pred, test_score = calc_acc(y_test_o, y_pred_xgb)\n",
    "print(\"Test F2 score =\", test_score)\n",
    "print(classification_report(test, pred, target_names=labels))"
   ]
  },
  {
   "cell_type": "code",
   "execution_count": null,
   "id": "90d670cd",
   "metadata": {},
   "outputs": [],
   "source": []
  }
 ],
 "metadata": {
  "kernelspec": {
   "display_name": "Python 3",
   "language": "python",
   "name": "python3"
  },
  "language_info": {
   "codemirror_mode": {
    "name": "ipython",
    "version": 3
   },
   "file_extension": ".py",
   "mimetype": "text/x-python",
   "name": "python",
   "nbconvert_exporter": "python",
   "pygments_lexer": "ipython3",
   "version": "3.8.8"
  }
 },
 "nbformat": 4,
 "nbformat_minor": 5
}
